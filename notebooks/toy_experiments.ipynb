{
 "cells": [
  {
   "cell_type": "code",
   "execution_count": 1,
   "metadata": {},
   "outputs": [
    {
     "name": "stderr",
     "output_type": "stream",
     "text": [
      "/Users/mirajuergens/opt/miniconda3/envs/epuc/lib/python3.11/site-packages/theano/scalar/basic.py:2412: FutureWarning: In the future `np.bool` will be defined as the corresponding NumPy scalar.\n",
      "  self.ctor = getattr(np, o_type.dtype)\n"
     ]
    },
    {
     "ename": "AttributeError",
     "evalue": "module 'numpy' has no attribute 'bool'.\n`np.bool` was a deprecated alias for the builtin `bool`. To avoid this error in existing code, use `bool` by itself. Doing this will not modify any behavior and is safe. If you specifically wanted the numpy scalar type, use `np.bool_` here.\nThe aliases was originally deprecated in NumPy 1.20; for more details and guidance see the original release note at:\n    https://numpy.org/devdocs/release/1.20.0-notes.html#deprecations",
     "output_type": "error",
     "traceback": [
      "\u001b[0;31m---------------------------------------------------------------------------\u001b[0m",
      "\u001b[0;31mAttributeError\u001b[0m                            Traceback (most recent call last)",
      "\u001b[1;32m/Users/mirajuergens/Library/CloudStorage/OneDrive-UGent/Code/EpistemicUncertaintyAnalysis/notebooks/toy_experiments.ipynb Cell 1\u001b[0m line \u001b[0;36m3\n\u001b[1;32m      <a href='vscode-notebook-cell:/Users/mirajuergens/Library/CloudStorage/OneDrive-UGent/Code/EpistemicUncertaintyAnalysis/notebooks/toy_experiments.ipynb#W1sZmlsZQ%3D%3D?line=0'>1</a>\u001b[0m \u001b[39mimport\u001b[39;00m \u001b[39mnumpy\u001b[39;00m \u001b[39mas\u001b[39;00m \u001b[39mnp\u001b[39;00m\n\u001b[1;32m      <a href='vscode-notebook-cell:/Users/mirajuergens/Library/CloudStorage/OneDrive-UGent/Code/EpistemicUncertaintyAnalysis/notebooks/toy_experiments.ipynb#W1sZmlsZQ%3D%3D?line=1'>2</a>\u001b[0m \u001b[39mimport\u001b[39;00m \u001b[39mmatplotlib\u001b[39;00m\u001b[39m.\u001b[39;00m\u001b[39mpyplot\u001b[39;00m \u001b[39mas\u001b[39;00m \u001b[39mplt\u001b[39;00m\n\u001b[0;32m----> <a href='vscode-notebook-cell:/Users/mirajuergens/Library/CloudStorage/OneDrive-UGent/Code/EpistemicUncertaintyAnalysis/notebooks/toy_experiments.ipynb#W1sZmlsZQ%3D%3D?line=2'>3</a>\u001b[0m \u001b[39mimport\u001b[39;00m \u001b[39mpymc3\u001b[39;00m \u001b[39mas\u001b[39;00m \u001b[39mpm\u001b[39;00m\n\u001b[1;32m      <a href='vscode-notebook-cell:/Users/mirajuergens/Library/CloudStorage/OneDrive-UGent/Code/EpistemicUncertaintyAnalysis/notebooks/toy_experiments.ipynb#W1sZmlsZQ%3D%3D?line=4'>5</a>\u001b[0m \u001b[39m# Generate synthetic data\u001b[39;00m\n\u001b[1;32m      <a href='vscode-notebook-cell:/Users/mirajuergens/Library/CloudStorage/OneDrive-UGent/Code/EpistemicUncertaintyAnalysis/notebooks/toy_experiments.ipynb#W1sZmlsZQ%3D%3D?line=5'>6</a>\u001b[0m np\u001b[39m.\u001b[39mrandom\u001b[39m.\u001b[39mseed(\u001b[39m0\u001b[39m)\n",
      "File \u001b[0;32m~/opt/miniconda3/envs/epuc/lib/python3.11/site-packages/pymc3/__init__.py:23\u001b[0m\n\u001b[1;32m     20\u001b[0m \u001b[39mimport\u001b[39;00m \u001b[39mplatform\u001b[39;00m\n\u001b[1;32m     22\u001b[0m \u001b[39mimport\u001b[39;00m \u001b[39msemver\u001b[39;00m\n\u001b[0;32m---> 23\u001b[0m \u001b[39mimport\u001b[39;00m \u001b[39mtheano\u001b[39;00m\n\u001b[1;32m     25\u001b[0m _log \u001b[39m=\u001b[39m logging\u001b[39m.\u001b[39mgetLogger(\u001b[39m\"\u001b[39m\u001b[39mpymc3\u001b[39m\u001b[39m\"\u001b[39m)\n\u001b[1;32m     27\u001b[0m \u001b[39mif\u001b[39;00m \u001b[39mnot\u001b[39;00m logging\u001b[39m.\u001b[39mroot\u001b[39m.\u001b[39mhandlers:\n",
      "File \u001b[0;32m~/opt/miniconda3/envs/epuc/lib/python3.11/site-packages/theano/__init__.py:83\u001b[0m\n\u001b[1;32m     75\u001b[0m \u001b[39m# This is the api version for ops that generate C code.  External ops\u001b[39;00m\n\u001b[1;32m     76\u001b[0m \u001b[39m# might need manual changes if this number goes up.  An undefined\u001b[39;00m\n\u001b[1;32m     77\u001b[0m \u001b[39m# __api_version__ can be understood to mean api version 0.\u001b[39;00m\n\u001b[1;32m     78\u001b[0m \u001b[39m#\u001b[39;00m\n\u001b[1;32m     79\u001b[0m \u001b[39m# This number is not tied to the release version and should change\u001b[39;00m\n\u001b[1;32m     80\u001b[0m \u001b[39m# very rarely.\u001b[39;00m\n\u001b[1;32m     81\u001b[0m __api_version__ \u001b[39m=\u001b[39m \u001b[39m1\u001b[39m\n\u001b[0;32m---> 83\u001b[0m \u001b[39mfrom\u001b[39;00m \u001b[39mtheano\u001b[39;00m \u001b[39mimport\u001b[39;00m scalar, tensor\n\u001b[1;32m     84\u001b[0m \u001b[39mfrom\u001b[39;00m \u001b[39mtheano\u001b[39;00m\u001b[39m.\u001b[39;00m\u001b[39mcompile\u001b[39;00m \u001b[39mimport\u001b[39;00m (\n\u001b[1;32m     85\u001b[0m     In,\n\u001b[1;32m     86\u001b[0m     Mode,\n\u001b[0;32m   (...)\u001b[0m\n\u001b[1;32m     93\u001b[0m     shared,\n\u001b[1;32m     94\u001b[0m )\n\u001b[1;32m     95\u001b[0m \u001b[39mfrom\u001b[39;00m \u001b[39mtheano\u001b[39;00m\u001b[39m.\u001b[39;00m\u001b[39mcompile\u001b[39;00m\u001b[39m.\u001b[39;00m\u001b[39mfunction\u001b[39;00m \u001b[39mimport\u001b[39;00m function, function_dump\n",
      "File \u001b[0;32m~/opt/miniconda3/envs/epuc/lib/python3.11/site-packages/theano/scalar/__init__.py:1\u001b[0m\n\u001b[0;32m----> 1\u001b[0m \u001b[39mfrom\u001b[39;00m \u001b[39m.\u001b[39;00m\u001b[39mbasic\u001b[39;00m \u001b[39mimport\u001b[39;00m \u001b[39m*\u001b[39m\n\u001b[1;32m      2\u001b[0m \u001b[39mfrom\u001b[39;00m \u001b[39m.\u001b[39;00m\u001b[39mbasic_scipy\u001b[39;00m \u001b[39mimport\u001b[39;00m \u001b[39m*\u001b[39m\n",
      "File \u001b[0;32m~/opt/miniconda3/envs/epuc/lib/python3.11/site-packages/theano/scalar/basic.py:2460\u001b[0m\n\u001b[1;32m   2456\u001b[0m         \u001b[39melse\u001b[39;00m:\n\u001b[1;32m   2457\u001b[0m             \u001b[39mreturn\u001b[39;00m s\n\u001b[0;32m-> 2460\u001b[0m convert_to_bool \u001b[39m=\u001b[39m Cast(\u001b[39mbool\u001b[39;49m, name\u001b[39m=\u001b[39;49m\u001b[39m\"\u001b[39;49m\u001b[39mconvert_to_bool\u001b[39;49m\u001b[39m\"\u001b[39;49m)\n\u001b[1;32m   2461\u001b[0m convert_to_int8 \u001b[39m=\u001b[39m Cast(int8, name\u001b[39m=\u001b[39m\u001b[39m\"\u001b[39m\u001b[39mconvert_to_int8\u001b[39m\u001b[39m\"\u001b[39m)\n\u001b[1;32m   2462\u001b[0m convert_to_int16 \u001b[39m=\u001b[39m Cast(int16, name\u001b[39m=\u001b[39m\u001b[39m\"\u001b[39m\u001b[39mconvert_to_int16\u001b[39m\u001b[39m\"\u001b[39m)\n",
      "File \u001b[0;32m~/opt/miniconda3/envs/epuc/lib/python3.11/site-packages/theano/scalar/basic.py:2412\u001b[0m, in \u001b[0;36mCast.__init__\u001b[0;34m(self, o_type, name)\u001b[0m\n\u001b[1;32m   2410\u001b[0m \u001b[39msuper\u001b[39m()\u001b[39m.\u001b[39m\u001b[39m__init__\u001b[39m(specific_out(o_type), name\u001b[39m=\u001b[39mname)\n\u001b[1;32m   2411\u001b[0m \u001b[39mself\u001b[39m\u001b[39m.\u001b[39mo_type \u001b[39m=\u001b[39m o_type\n\u001b[0;32m-> 2412\u001b[0m \u001b[39mself\u001b[39m\u001b[39m.\u001b[39mctor \u001b[39m=\u001b[39m \u001b[39mgetattr\u001b[39;49m(np, o_type\u001b[39m.\u001b[39;49mdtype)\n",
      "File \u001b[0;32m~/opt/miniconda3/envs/epuc/lib/python3.11/site-packages/numpy/__init__.py:324\u001b[0m, in \u001b[0;36m__getattr__\u001b[0;34m(attr)\u001b[0m\n\u001b[1;32m    319\u001b[0m     warnings\u001b[39m.\u001b[39mwarn(\n\u001b[1;32m    320\u001b[0m         \u001b[39mf\u001b[39m\u001b[39m\"\u001b[39m\u001b[39mIn the future `np.\u001b[39m\u001b[39m{\u001b[39;00mattr\u001b[39m}\u001b[39;00m\u001b[39m` will be defined as the \u001b[39m\u001b[39m\"\u001b[39m\n\u001b[1;32m    321\u001b[0m         \u001b[39m\"\u001b[39m\u001b[39mcorresponding NumPy scalar.\u001b[39m\u001b[39m\"\u001b[39m, \u001b[39mFutureWarning\u001b[39;00m, stacklevel\u001b[39m=\u001b[39m\u001b[39m2\u001b[39m)\n\u001b[1;32m    323\u001b[0m \u001b[39mif\u001b[39;00m attr \u001b[39min\u001b[39;00m __former_attrs__:\n\u001b[0;32m--> 324\u001b[0m     \u001b[39mraise\u001b[39;00m \u001b[39mAttributeError\u001b[39;00m(__former_attrs__[attr])\n\u001b[1;32m    326\u001b[0m \u001b[39mif\u001b[39;00m attr \u001b[39m==\u001b[39m \u001b[39m'\u001b[39m\u001b[39mtesting\u001b[39m\u001b[39m'\u001b[39m:\n\u001b[1;32m    327\u001b[0m     \u001b[39mimport\u001b[39;00m \u001b[39mnumpy\u001b[39;00m\u001b[39m.\u001b[39;00m\u001b[39mtesting\u001b[39;00m \u001b[39mas\u001b[39;00m \u001b[39mtesting\u001b[39;00m\n",
      "\u001b[0;31mAttributeError\u001b[0m: module 'numpy' has no attribute 'bool'.\n`np.bool` was a deprecated alias for the builtin `bool`. To avoid this error in existing code, use `bool` by itself. Doing this will not modify any behavior and is safe. If you specifically wanted the numpy scalar type, use `np.bool_` here.\nThe aliases was originally deprecated in NumPy 1.20; for more details and guidance see the original release note at:\n    https://numpy.org/devdocs/release/1.20.0-notes.html#deprecations"
     ]
    }
   ],
   "source": [
    "import numpy as np\n",
    "import matplotlib.pyplot as plt\n",
    "import pymc3 as pm\n",
    "\n",
    "# Generate synthetic data\n",
    "np.random.seed(0)\n",
    "X = np.linspace(0, 10, 100)\n",
    "true_slope = 2.5\n",
    "true_intercept = 1.0\n",
    "y = true_slope * X + true_intercept + np.random.normal(scale=2.0, size=len(X))  # aleatoric uncertainty from noise\n",
    "\n",
    "# Create a Bayesian Linear Regression model with PyMC3\n",
    "with pm.Model() as model:\n",
    "    # Priors for the model parameters\n",
    "    slope = pm.Normal('slope', mu=0, sigma=10)\n",
    "    intercept = pm.Normal('intercept', mu=0, sigma=10)\n",
    "    sigma = pm.HalfNormal('sigma', sigma=10)  # noise parameter\n",
    "\n",
    "    # Likelihood\n",
    "    likelihood = pm.Normal('y', mu=slope*X + intercept, sigma=sigma, observed=y)\n",
    "\n",
    "    # Inference\n",
    "    trace = pm.sample(2000, tune=1000, target_accept=0.95)\n",
    "\n",
    "# Plot the true line, observations, and the posterior predictive\n",
    "plt.figure(figsize=(10, 6))\n",
    "pm.plot_posterior_predictive_glm(trace, samples=100, eval=np.linspace(0, 10, 100),\n",
    "                                 linewidth=1, color='red', alpha=0.8, label='Posterior predictive')\n",
    "plt.scatter(X, y, label='Observations')\n",
    "plt.plot(X, true_slope*X + true_intercept, label='True line', lw=2)\n",
    "plt.legend()\n",
    "plt.show()\n"
   ]
  },
  {
   "cell_type": "code",
   "execution_count": null,
   "metadata": {},
   "outputs": [],
   "source": []
  }
 ],
 "metadata": {
  "kernelspec": {
   "display_name": "Python 3",
   "language": "python",
   "name": "python3"
  },
  "language_info": {
   "codemirror_mode": {
    "name": "ipython",
    "version": 3
   },
   "file_extension": ".py",
   "mimetype": "text/x-python",
   "name": "python",
   "nbconvert_exporter": "python",
   "pygments_lexer": "ipython3",
   "version": "3.11.5"
  }
 },
 "nbformat": 4,
 "nbformat_minor": 2
}
